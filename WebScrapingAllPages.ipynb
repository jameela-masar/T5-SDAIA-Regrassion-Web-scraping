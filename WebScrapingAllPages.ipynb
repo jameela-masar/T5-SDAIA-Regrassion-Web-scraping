{
 "cells": [
  {
   "cell_type": "markdown",
   "id": "1bf6d626",
   "metadata": {},
   "source": [
    "# import libraries"
   ]
  },
  {
   "cell_type": "code",
   "execution_count": 1,
   "id": "f72e7d39",
   "metadata": {},
   "outputs": [],
   "source": [
    "from bs4 import BeautifulSoup as bs\n",
    "import requests\n",
    "import numpy as np\n",
    "import pandas as pd\n",
    "import csv\n",
    "from itertools import zip_longest\n",
    "import matplotlib.pyplot as plt\n",
    "%matplotlib inline"
   ]
  },
  {
   "cell_type": "code",
   "execution_count": 2,
   "id": "7686ddcf",
   "metadata": {},
   "outputs": [],
   "source": [
    "import time\n",
    "time.sleep(3)"
   ]
  },
  {
   "cell_type": "markdown",
   "id": "9a3b6144",
   "metadata": {},
   "source": [
    "# Take data from 1000 pages for main data in project and 100 for more feature "
   ]
  },
  {
   "cell_type": "code",
   "execution_count": 16,
   "id": "d2ec251f",
   "metadata": {},
   "outputs": [],
   "source": [
    "page = 1\n",
    "b=[]\n",
    "a=[]\n",
    "c1=[]\n",
    "c2=[]\n",
    "district_=[]\n",
    "district=[]\n",
    "link=[]\n",
    "while page != 100:\n",
    "        url = f\"https://sa.aqar.fm/%D9%81%D9%84%D9%84-%D9%84%D9%84%D8%A8%D9%8A%D8%B9/%D8%A7%D9%84%D8%B1%D9%8A%D8%A7%D8%B6?page={page}\"\n",
    "        response = requests.get(url)\n",
    "        html = response.content\n",
    "        soup = bs(html, \"lxml\")\n",
    "        price=soup.find_all('span', class_='price')\n",
    "        for i in range(len(price)):\n",
    "            b.append(price[i].text) \n",
    "        District=soup.find_all('a', class_='listTitle')\n",
    "        for i in range(len(District)):\n",
    "            district.append(District[i].text)\n",
    "        tittle=soup.find_all(\"h4\",{\"class\":\"listTitle\"})\n",
    "        for i in range (len(tittle)):\n",
    "            link.append(\"https://sa.aqar.fm\"+tittle[i].find(\"a\").attrs['href'])\n",
    "        time.sleep(3)   \n",
    "        page = page + 1"
   ]
  },
  {
   "cell_type": "code",
   "execution_count": 17,
   "id": "60f4f5ac",
   "metadata": {},
   "outputs": [],
   "source": [
    "for i in range(len(district)):\n",
    "        district_.append(district[i].split(\"،\"))\n",
    "district__=pd.DataFrame(district_)\n",
    "districts=district__[1]"
   ]
  },
  {
   "cell_type": "markdown",
   "id": "1dd591e4",
   "metadata": {},
   "source": [
    "# Save into CSV file "
   ]
  },
  {
   "cell_type": "code",
   "execution_count": 18,
   "id": "a058cfe3",
   "metadata": {},
   "outputs": [],
   "source": [
    "f=[b,districts,link]\n",
    "ex=zip_longest(*f)\n",
    "with open(\"part5.csv\",\"w\",encoding=\"utf-8\") as my:\n",
    "    wr=csv.writer(my)\n",
    "    wr.writerow([\"Price\",\"Districts\",\"Link\"])\n",
    "    wr.writerows(ex)"
   ]
  }
 ],
 "metadata": {
  "kernelspec": {
   "display_name": "Python 3",
   "language": "python",
   "name": "python3"
  },
  "language_info": {
   "codemirror_mode": {
    "name": "ipython",
    "version": 3
   },
   "file_extension": ".py",
   "mimetype": "text/x-python",
   "name": "python",
   "nbconvert_exporter": "python",
   "pygments_lexer": "ipython3",
   "version": "3.8.8"
  }
 },
 "nbformat": 4,
 "nbformat_minor": 5
}
